{
 "cells": [
  {
   "cell_type": "code",
   "execution_count": 1,
   "metadata": {
    "colab": {
     "base_uri": "https://localhost:8080/",
     "height": 219
    },
    "executionInfo": {
     "elapsed": 13611,
     "status": "ok",
     "timestamp": 1701927955905,
     "user": {
      "displayName": "Mohammed Zahid",
      "userId": "07825402617405194429"
     },
     "user_tz": -330
    },
    "id": "L96rseWABkr8",
    "outputId": "a72e13ae-988d-48b5-c7a0-c417efea049a"
   },
   "outputs": [],
   "source": [
    "import pyspark\n",
    "from pyspark.sql import SparkSession\n",
    "from glob import glob\n",
    "from pyspark.sql import functions\n",
    "from pyspark.sql.functions import input_file_name, substring, regexp_extract, col\n",
    "from pyspark.ml.feature import VectorAssembler\n",
    "from pyspark.ml.clustering import KMeans\n",
    "from pyspark.sql.functions import col\n",
    "from pyspark.sql.window import Window\n",
    "from pyspark.sql import functions as F\n",
    "import matplotlib.pyplot as plt\n",
    "import pandas as pd\n",
    "%config IPCompleter.greedy=True"
   ]
  },
  {
   "cell_type": "code",
   "execution_count": 2,
   "metadata": {
    "executionInfo": {
     "elapsed": 387,
     "status": "ok",
     "timestamp": 1701929158425,
     "user": {
      "displayName": "Mohammed Zahid",
      "userId": "07825402617405194429"
     },
     "user_tz": -330
    },
    "id": "bVAkUWUcWG02"
   },
   "outputs": [
    {
     "name": "stderr",
     "output_type": "stream",
     "text": [
      "Setting default log level to \"WARN\".\n",
      "To adjust logging level use sc.setLogLevel(newLevel). For SparkR, use setLogLevel(newLevel).\n",
      "23/12/08 21:25:55 WARN NativeCodeLoader: Unable to load native-hadoop library for your platform... using builtin-java classes where applicable\n"
     ]
    }
   ],
   "source": [
    "from pyspark.ml.regression import LinearRegression, RandomForestRegressor\n",
    "from pyspark.ml.feature import VectorAssembler\n",
    "from pyspark.ml.regression import DecisionTreeRegressor\n",
    "from pyspark.ml import Pipeline\n",
    "from pyspark.ml.evaluation import RegressionEvaluator\n",
    "from glob import glob\n",
    "\n",
    "from pyspark.sql.types import StructType, StructField, StringType, DoubleType, TimestampType\n",
    "from pyspark.sql import functions\n",
    "from pyspark.sql.functions import input_file_name, substring, regexp_extract, col\n",
    "import pandas as pd\n",
    "import ast\n",
    "import re\n",
    "\n",
    "from pyspark.sql.functions import col\n",
    "spark = SparkSession.builder\\\n",
    "         .master(\"local\")\\\n",
    "         .appName(\"StockPrediction\")\\\n",
    "         .config('spark.ui.port', '4050')\\\n",
    "         .getOrCreate()"
   ]
  },
  {
   "cell_type": "code",
   "execution_count": 3,
   "metadata": {
    "executionInfo": {
     "elapsed": 523,
     "status": "ok",
     "timestamp": 1701927957064,
     "user": {
      "displayName": "Mohammed Zahid",
      "userId": "07825402617405194429"
     },
     "user_tz": -330
    },
    "id": "qvgMXD58BuCC"
   },
   "outputs": [],
   "source": [
    "schema = StructType([StructField(\"date\",TimestampType(),True),\n",
    "                     StructField(\"open\",DoubleType(),True),\n",
    "                     StructField(\"high\",DoubleType(),True),\n",
    "                     StructField(\"low\",DoubleType(),True),\n",
    "                     StructField(\"close\",DoubleType(),True),\n",
    "                     StructField(\"volume\",DoubleType(),True)])"
   ]
  },
  {
   "cell_type": "code",
   "execution_count": 4,
   "metadata": {
    "colab": {
     "base_uri": "https://localhost:8080/"
    },
    "executionInfo": {
     "elapsed": 19002,
     "status": "ok",
     "timestamp": 1701936081704,
     "user": {
      "displayName": "Mohammed Zahid",
      "userId": "07825402617405194429"
     },
     "user_tz": -330
    },
    "id": "w2k15pDeEVFy",
    "outputId": "2814a326-6007-4192-8db8-838e6f4eba3e"
   },
   "outputs": [],
   "source": [
    "path = \"/Users/d0d02tr/Desktop/hourly-data/*.txt\"\n",
    "Stock_DataPath = path"
   ]
  },
  {
   "cell_type": "code",
   "execution_count": 5,
   "metadata": {},
   "outputs": [
    {
     "name": "stderr",
     "output_type": "stream",
     "text": [
      "                                                                                \r"
     ]
    }
   ],
   "source": [
    "stock_df = spark.read \\\n",
    "    .option(\"header\", \"true\") \\\n",
    "    .option(\"inferSchema\", \"true\") \\\n",
    "    .schema(schema) \\\n",
    "    .json(Stock_DataPath) \\\n",
    "    .withColumn(\"company\", regexp_extract(input_file_name(), \"/([^/]+)$\", 1))\n",
    "\n",
    "\n"
   ]
  },
  {
   "cell_type": "markdown",
   "metadata": {
    "id": "W1s6e5jOWYya"
   },
   "source": [
    "**Read data into Dataframe with file names also as an**"
   ]
  },
  {
   "cell_type": "code",
   "execution_count": 6,
   "metadata": {},
   "outputs": [
    {
     "name": "stdout",
     "output_type": "stream",
     "text": [
      "+-------------------+------+------+------+------+------+--------------------+\n",
      "|               date|  open|  high|   low| close|volume|             company|\n",
      "+-------------------+------+------+------+------+------+--------------------+\n",
      "|2022-10-06 09:15:00| 240.5| 242.0| 236.8| 239.0|2093.0|SREELEATHERS._hou...|\n",
      "|2022-10-06 10:15:00| 239.0| 240.7| 238.1| 238.1|2340.0|SREELEATHERS._hou...|\n",
      "|2022-10-06 11:15:00| 238.1|238.75| 238.1| 238.1| 541.0|SREELEATHERS._hou...|\n",
      "|2022-10-06 12:15:00| 238.1| 238.1| 233.4| 234.3|1386.0|SREELEATHERS._hou...|\n",
      "|2022-10-06 13:15:00| 234.3| 237.2|233.05| 237.2| 629.0|SREELEATHERS._hou...|\n",
      "|2022-10-06 14:15:00| 237.2| 237.2| 230.0| 232.0| 759.0|SREELEATHERS._hou...|\n",
      "|2022-10-06 15:15:00| 232.0| 232.1|228.95| 231.3| 575.0|SREELEATHERS._hou...|\n",
      "|2022-10-07 09:15:00|230.65| 233.3| 224.6|229.85| 748.0|SREELEATHERS._hou...|\n",
      "|2022-10-07 10:15:00|229.85|229.85|229.85|229.85|   0.0|SREELEATHERS._hou...|\n",
      "|2022-10-07 11:15:00|229.85|229.85|229.85|229.85|   0.0|SREELEATHERS._hou...|\n",
      "|2022-10-07 12:15:00|229.85| 230.7|229.15|229.15| 398.0|SREELEATHERS._hou...|\n",
      "|2022-10-07 13:15:00|229.15|229.15|228.05|228.05|  23.0|SREELEATHERS._hou...|\n",
      "|2022-10-07 14:15:00|228.05| 228.1|225.65|226.05| 351.0|SREELEATHERS._hou...|\n",
      "|2022-10-07 15:15:00|226.05|227.25| 225.6|225.75| 391.0|SREELEATHERS._hou...|\n",
      "|2022-10-10 09:15:00|215.05| 230.0|215.05| 229.0|1798.0|SREELEATHERS._hou...|\n",
      "|2022-10-10 10:15:00| 229.0|230.45|227.55|227.75| 867.0|SREELEATHERS._hou...|\n",
      "|2022-10-10 11:15:00|227.75|227.75|225.85| 227.3| 768.0|SREELEATHERS._hou...|\n",
      "|2022-10-10 12:15:00| 227.3| 228.6|226.95| 228.6| 166.0|SREELEATHERS._hou...|\n",
      "|2022-10-10 13:15:00| 228.6| 228.6|224.05|224.05| 218.0|SREELEATHERS._hou...|\n",
      "|2022-10-10 14:15:00|224.05|224.05|222.35|223.75| 215.0|SREELEATHERS._hou...|\n",
      "+-------------------+------+------+------+------+------+--------------------+\n",
      "only showing top 20 rows\n",
      "\n"
     ]
    }
   ],
   "source": [
    "stock_df.show()"
   ]
  },
  {
   "cell_type": "code",
   "execution_count": 7,
   "metadata": {
    "executionInfo": {
     "elapsed": 387,
     "status": "ok",
     "timestamp": 1701936136551,
     "user": {
      "displayName": "Mohammed Zahid",
      "userId": "07825402617405194429"
     },
     "user_tz": -330
    },
    "id": "Now_SH8gLWqI"
   },
   "outputs": [],
   "source": [
    "stock_df = stock_df.withColumn('symbol', functions.split('company', '_hourly')[0]).withColumn('symbol', functions.expr(\"replace(symbol, '%20', ' ')\"))"
   ]
  },
  {
   "cell_type": "code",
   "execution_count": 8,
   "metadata": {
    "colab": {
     "base_uri": "https://localhost:8080/"
    },
    "executionInfo": {
     "elapsed": 840,
     "status": "ok",
     "timestamp": 1701936139956,
     "user": {
      "displayName": "Mohammed Zahid",
      "userId": "07825402617405194429"
     },
     "user_tz": -330
    },
    "id": "kw4uWGTIK_0d",
    "outputId": "8daf2dfb-c445-4e53-c33f-fade6ece1bf8"
   },
   "outputs": [
    {
     "name": "stderr",
     "output_type": "stream",
     "text": [
      "OpenJDK 64-Bit Server VM warning: CodeCache is full. Compiler has been disabled.\n",
      "OpenJDK 64-Bit Server VM warning: Try increasing the code cache size using -XX:ReservedCodeCacheSize=\n"
     ]
    },
    {
     "name": "stdout",
     "output_type": "stream",
     "text": [
      "CodeCache: size=131072Kb used=29900Kb max_used=29900Kb free=101171Kb\n",
      " bounds [0x0000000103d4c000, 0x0000000105abc000, 0x000000010bd4c000]\n",
      " total_blobs=11525 nmethods=10605 adapters=833\n",
      " compilation: disabled (not enough contiguous free space left)\n"
     ]
    },
    {
     "name": "stderr",
     "output_type": "stream",
     "text": [
      "[Stage 2:=======================================================> (89 + 1) / 91]\r"
     ]
    },
    {
     "name": "stdout",
     "output_type": "stream",
     "text": [
      "+------------------------------+\n",
      "|symbol                        |\n",
      "+------------------------------+\n",
      "|KHANDWALA SECURITIES.         |\n",
      "|PAGE INDUSTRIES.              |\n",
      "|SIEMENS.                      |\n",
      "|SSPDL.                        |\n",
      "|PIRAMAL ENTERPRISES.          |\n",
      "|3M INDIA.                     |\n",
      "|KOTAK MAHINDRA BANK.          |\n",
      "|STERLING GREEN WOODS.         |\n",
      "|LARSEN _ TOUBRO.              |\n",
      "|SENSEX                        |\n",
      "|TATA CONSULTANCY SERVICES.    |\n",
      "|TITAN COMPANY                 |\n",
      "|NESTLE INDIA.                 |\n",
      "|HINDUSTAN UNILEVER.           |\n",
      "|HDFC BANK.                    |\n",
      "|RELIANCE INDUSTRIES.          |\n",
      "|SHRIRAM FINANCE               |\n",
      "|PROCTER _ GAMBLE HYGIENE _ HEA|\n",
      "|INFOSYS.                      |\n",
      "|INTERGLOBE AVIATION           |\n",
      "+------------------------------+\n",
      "only showing top 20 rows\n",
      "\n"
     ]
    },
    {
     "name": "stderr",
     "output_type": "stream",
     "text": [
      "                                                                                \r"
     ]
    }
   ],
   "source": [
    "stock_df.select('symbol').distinct().show(truncate= False)"
   ]
  },
  {
   "cell_type": "code",
   "execution_count": 9,
   "metadata": {
    "colab": {
     "base_uri": "https://localhost:8080/"
    },
    "executionInfo": {
     "elapsed": 681304,
     "status": "ok",
     "timestamp": 1701936837157,
     "user": {
      "displayName": "Mohammed Zahid",
      "userId": "07825402617405194429"
     },
     "user_tz": -330
    },
    "id": "8BMMNBh5iBHq",
    "outputId": "77a8cfb3-8247-4d6c-86ce-5dae4491ebda"
   },
   "outputs": [],
   "source": [
    "aggregated_stock_df = stock_df.groupby('symbol').agg(\n",
    "    F.avg(\"open\").alias(\"avg_open\"),\n",
    "    F.avg(\"high\").alias(\"avg_high\"),\n",
    "    F.avg(\"low\").alias(\"avg_low\"),\n",
    "    F.avg(\"close\").alias(\"avg_close\"),\n",
    "    F.avg(\"volume\").alias(\"avg_volume\"))"
   ]
  },
  {
   "cell_type": "code",
   "execution_count": 10,
   "metadata": {
    "executionInfo": {
     "elapsed": 2,
     "status": "ok",
     "timestamp": 1701936837157,
     "user": {
      "displayName": "Mohammed Zahid",
      "userId": "07825402617405194429"
     },
     "user_tz": -330
    },
    "id": "IjoUbjOzFqay"
   },
   "outputs": [
    {
     "name": "stderr",
     "output_type": "stream",
     "text": [
      "                                                                                \r"
     ]
    },
    {
     "name": "stdout",
     "output_type": "stream",
     "text": [
      "+------------------------------+------------------+------------------+------------------+------------------+------------------+\n",
      "|symbol                        |avg_open          |avg_high          |avg_low           |avg_close         |avg_volume        |\n",
      "+------------------------------+------------------+------------------+------------------+------------------+------------------+\n",
      "|KHANDWALA SECURITIES.         |23.123167475728433|23.279808625840488|22.926632748319957|23.112325429425248|742.3238424197162 |\n",
      "|PAGE INDUSTRIES.              |31595.975080004675|31732.217577337702|31451.851665283935|31589.243996681245|245.8514874955553 |\n",
      "|SIEMENS.                      |2085.4645988861216|2094.5099597108665|2076.1769166963068|2085.205284986375 |3486.6250740609075|\n",
      "|SSPDL.                        |17.370127317399934|17.5089122180031  |17.2129357456629  |17.35971632789803 |407.1853175489539 |\n",
      "|PIRAMAL ENTERPRISES.          |1538.9245466398004|1548.4714827545315|1528.9527734976887|1538.294749318479 |10394.76603057959 |\n",
      "|3M INDIA.                     |22946.541088168964|23037.433677465197|22849.75302598786 |22942.093473359393|45.41651833392667 |\n",
      "|KOTAK MAHINDRA BANK.          |1679.6078126852376|1686.157492590389 |1672.6695317131132|1679.48762299941  |34275.64943687018 |\n",
      "|STERLING GREEN WOODS.         |18.641996028594168|18.712661636219256|18.559656076251052|18.642597299444052|67.2582208101668  |\n",
      "|LARSEN _ TOUBRO.              |1631.1535981031348|1637.1171250740913|1624.9290278601113|1631.0233432128027|22773.23995257854 |\n",
      "|SENSEX                        |47850.711481633094|47937.51293870863 |47749.34932876305 |47845.24314949345 |0.0               |\n",
      "|TATA CONSULTANCY SERVICES.    |2880.847512143112 |2889.873054140488 |2870.965353631116 |2880.5904869091305|18188.52683331359 |\n",
      "|TITAN COMPANY                 |1847.5696244520843|1854.6421928681366|1839.999407653136 |1847.3296232673922|11419.322118232438|\n",
      "|NESTLE INDIA.                 |17233.396289710676|17288.809892128935|17173.54246680891 |17231.24694167844 |475.7938596491228 |\n",
      "|HINDUSTAN UNILEVER.           |2266.712099834005 |2274.0384396490267|2258.9368271283042|2266.496899454595 |13907.949253023477|\n",
      "|HDFC BANK.                    |1367.6731029167654|1372.2046715674574|1362.8405738676709|1367.59017073749  |53079.47296656391 |\n",
      "|RELIANCE INDUSTRIES.          |1943.7489452476887|1950.5495141028684|1936.3352512443653|1943.421343920366 |82536.40922019436 |\n",
      "|SHRIRAM FINANCE               |1197.3635237643714|1204.3067855872953|1190.037323693252 |1197.0566018727004|14394.124451819367|\n",
      "|PROCTER _ GAMBLE HYGIENE _ HEA|12705.271488680808|12752.937068863459|12656.288947493114|12705.036914780136|102.02868318122556|\n",
      "|INFOSYS.                      |1223.88632914394  |1227.9652893052012|1219.6169492530234|1223.8924768792963|54931.34372776856 |\n",
      "|INTERGLOBE AVIATION           |1710.6091889969196|1719.7168840407815|1701.6525788475333|1710.55821674176  |13806.430045055728|\n",
      "+------------------------------+------------------+------------------+------------------+------------------+------------------+\n",
      "only showing top 20 rows\n",
      "\n"
     ]
    },
    {
     "name": "stderr",
     "output_type": "stream",
     "text": [
      "                                                                                \r"
     ]
    },
    {
     "data": {
      "text/plain": [
       "2441"
      ]
     },
     "execution_count": 10,
     "metadata": {},
     "output_type": "execute_result"
    }
   ],
   "source": [
    "aggregated_stock_df.show(truncate= False)\n",
    "aggregated_stock_df.count()"
   ]
  },
  {
   "cell_type": "code",
   "execution_count": 11,
   "metadata": {
    "colab": {
     "base_uri": "https://localhost:8080/",
     "height": 338
    },
    "executionInfo": {
     "elapsed": 380119,
     "status": "error",
     "timestamp": 1701937217275,
     "user": {
      "displayName": "Mohammed Zahid",
      "userId": "07825402617405194429"
     },
     "user_tz": -330
    },
    "id": "2EMeJ-J0FKbI",
    "outputId": "7262deb4-8da3-4499-8c76-7956f558b74d"
   },
   "outputs": [
    {
     "name": "stdout",
     "output_type": "stream",
     "text": [
      "root\n",
      " |-- symbol: string (nullable = true)\n",
      " |-- avg_open: double (nullable = true)\n",
      " |-- avg_high: double (nullable = true)\n",
      " |-- avg_low: double (nullable = true)\n",
      " |-- avg_close: double (nullable = true)\n",
      " |-- avg_volume: double (nullable = true)\n",
      "\n"
     ]
    }
   ],
   "source": [
    "aggregated_stock_df.printSchema()"
   ]
  },
  {
   "cell_type": "code",
   "execution_count": 12,
   "metadata": {},
   "outputs": [
    {
     "name": "stderr",
     "output_type": "stream",
     "text": [
      "23/12/08 21:32:44 WARN InstanceBuilder: Failed to load implementation from:dev.ludovic.netlib.blas.JNIBLAS\n",
      "[Stage 78:>                                                         (0 + 1) / 1]\r"
     ]
    },
    {
     "name": "stdout",
     "output_type": "stream",
     "text": [
      "+------------------------------+------------------------------------------------------------------------------------------------+-------+\n",
      "|symbol                        |features                                                                                        |cluster|\n",
      "+------------------------------+------------------------------------------------------------------------------------------------+-------+\n",
      "|TEAMLEASE SERVICES            |[2917.773406398108,2934.1249763033034,2900.366250000024,2916.4482582938426,433.9776066350711]   |0      |\n",
      "|PRESTIGE ESTATES PROJECTS.    |[365.19814507526434,367.6916202441636,362.77072419106446,365.1577337916327,6921.999288846747]   |0      |\n",
      "|TRENT.                        |[943.0122260395684,948.319251273558,937.6276211349244,942.9029380405149,4315.02298305888]       |0      |\n",
      "|IPCA LABORATORIES.            |[838.7790490870289,843.0451683661411,834.2835843016333,838.5851671804602,3833.8030590467156]    |0      |\n",
      "|SIEMENS.                      |[2085.4645988861216,2094.5099597108665,2076.1769166963068,2085.205284986375,3486.6250740609075] |0      |\n",
      "|TATA CONSUMER PRODUCTS        |[588.2840421750965,590.7289598388815,585.7263061248625,588.2280239308137,22237.91849306954]     |0      |\n",
      "|PIRAMAL ENTERPRISES.          |[1538.9245466398004,1548.4714827545315,1528.9527734976887,1538.294749318479,10394.76603057959]  |0      |\n",
      "|KAJARIA CERAMICS.             |[867.4952810054494,871.9860386530763,862.4730495612894,867.245387716381,3363.0423286696705]     |0      |\n",
      "|KOTAK MAHINDRA BANK.          |[1679.6078126852376,1686.157492590389,1672.6695317131132,1679.48762299941,34275.64943687018]    |0      |\n",
      "|TUBE INVESTMENTS OF INDIA     |[1380.237655491062,1388.7096315602453,1371.5197547684033,1379.9213185641552,3290.114678355645]  |0      |\n",
      "|LARSEN _ TOUBRO.              |[1631.1535981031348,1637.1171250740913,1624.9290278601113,1631.0233432128027,22773.23995257854] |0      |\n",
      "|NILKAMAL.                     |[1783.3562588904717,1792.3532835466929,1774.4987019914765,1783.084821005217,223.99632527264106] |0      |\n",
      "|TATA CONSULTANCY SERVICES.    |[2880.847512143112,2889.873054140488,2870.965353631116,2880.5904869091305,18188.52683331359]    |0      |\n",
      "|UPL                           |[631.3601587489617,634.2001895510047,628.3185286103532,631.1877798838975,25119.554199739367]    |0      |\n",
      "|NESTLE INDIA.                 |[17233.396289710676,17288.809892128935,17173.54246680891,17231.24694167844,475.7938596491228]   |0      |\n",
      "|JUBILANT FOODWORKS            |[477.49070318984866,479.9947112534087,474.89662634886804,477.4167437448114,27417.706391556978]  |0      |\n",
      "|HDFC BANK.                    |[1367.6731029167654,1372.2046715674574,1362.8405738676709,1367.59017073749,53079.47296656391]   |0      |\n",
      "|PILANI INVESTMENT AND INDUSTRI|[1634.3120064034133,1641.0935076485173,1625.711449069129,1632.9515712083453,228.18178584133761] |0      |\n",
      "|SHRIRAM FINANCE               |[1197.3635237643714,1204.3067855872953,1190.037323693252,1197.0566018727004,14394.124451819367] |0      |\n",
      "|REC                           |[111.93065663150435,112.50733673106551,111.34175062225926,111.92845798269549,79644.88040772786] |0      |\n",
      "|INFOSYS.                      |[1223.88632914394,1227.9652893052012,1219.6169492530234,1223.8924768792963,54931.34372776856]   |0      |\n",
      "|TATA CHEMICALS.               |[744.8552422698698,748.1618943253201,741.2448880464328,744.6123445089397,18392.01149152944]     |0      |\n",
      "|SREELEATHERS.                 |[177.61672623302314,178.72133666904892,176.47765665951863,177.58699666428353,719.8377412437455] |0      |\n",
      "|KEI INDUSTRIES.               |[958.4146905383008,964.0327721128896,952.5693561773708,958.2514050272734,3336.6581693146786]    |0      |\n",
      "|PVR INOX                      |[1538.3683892378865,1546.8140037928226,1530.0352080123191,1538.1496147919943,9621.14768282565]  |0      |\n",
      "|UJJIVAN FINANCIAL SERVICES LIM|[259.7067890995262,261.4457523696683,257.8584537914694,259.62678909952666,16812.805805687203]   |0      |\n",
      "|PIDILITE INDUSTRIES.          |[1944.6057728781377,1951.7857041251743,1936.6621680891458,1944.2710526315768,5342.1589615931725]|0      |\n",
      "|VOLTAS.                       |[837.242637128303,840.9564091932286,833.2414938988244,837.0511254590688,9628.785096552541]      |0      |\n",
      "|HONEYWELL AUTOMATION INDIA    |[34957.43144788325,35098.035704968286,34811.29239890932,34950.62669275458,45.67757618878217]    |0      |\n",
      "|SANDUR MANGANESE _ IRON ORES L|[618.03814885044,622.9858556529964,612.7653590898351,617.7426285849766,4721.9482104764165]      |0      |\n",
      "|HAVELLS INDIA.                |[997.1649928859413,1001.6437277685607,992.5144178325751,997.0394178325845,9575.552051221248]    |0      |\n",
      "|NATIONAL PEROXIDE.            |[505.32811166429525,508.96552275960244,501.27300853484985,505.0114983404455,3769.506993835941]  |0      |\n",
      "|P.I.INDUSTRIES.               |[2375.8391075026693,2387.690737228854,2363.6501955671706,2375.5149638497132,2187.1777883133814] |0      |\n",
      "|SONATA SOFTWARE.              |[475.0591894774232,477.8958762886612,472.27771062921715,475.04877947623817,4138.686337243749]   |0      |\n",
      "|INFO EDGE (INDIA).            |[3755.474620673287,3775.7790066381926,3733.9071894262947,3754.6743658131695,3192.8499288762446] |0      |\n",
      "|ZYDUS LIFESCIENCES            |[413.793697429215,415.67167397227627,411.7672254472218,413.6783319511904,18975.360976187654]    |0      |\n",
      "|NIPPON INDIA ETF NIFTY BEES   |[159.54533072546275,159.85223091512492,159.0155357989577,159.38956140350913,19984.73399715505]  |0      |\n",
      "|STERLITE TECHNOLOGIES.        |[180.14077606635033,181.31447274881444,178.8775414691951,180.0216054502366,23030.495853080567]  |0      |\n",
      "|SRF.                          |[1518.9868542654021,1525.9409063981047,1511.7880035544963,1518.7829443127987,7439.904383886256] |0      |\n",
      "|RADICO KHAITAN.               |[719.8060270238273,724.2198174706676,715.5010963612604,719.8137074789629,5243.384141282447]     |0      |\n",
      "|MARUTI SUZUKI INDIA.          |[7570.84363959693,7599.060136336704,7540.582276229949,7569.57061647896,5826.218612922347]       |0      |\n",
      "|SOLAR INDUSTRIES INDIA.       |[2163.959026789949,2175.1246680891277,2152.666565908033,2163.7505334281645,575.3883357041252]   |0      |\n",
      "|HERO MOTOCORP.                |[2710.1798470295307,2721.1374481204475,2698.170870390146,2709.5469524487135,4667.109688129965]  |0      |\n",
      "|PETRONET LNG.                 |[232.56200071115242,233.51282446367122,231.5409505748496,232.50606258148554,19820.437596302003] |0      |\n",
      "|VENKYS (INDIA).               |[1898.7661888401872,1910.2656024167702,1886.7559767800074,1897.592980689493,1509.857599810449]  |0      |\n",
      "|LUPIN.                        |[854.0476170717241,857.8317901600515,850.0244931831645,853.8237462951982,12357.767871962064]    |0      |\n",
      "|TECH MAHINDRA.                |[996.173391778231,1000.392915531341,991.7712652529261,996.10859495321,19870.410022509182]       |0      |\n",
      "|ICICI PRUDENTIAL LIFE INSURANC|[482.97875859615965,485.3704944273202,480.4494130898736,482.9150995968708,13769.191486838985]   |0      |\n",
      "|ULTRATECH CEMENT.             |[5864.358595971591,5886.225799763054,5840.950539099517,5863.3885071090235,2673.6420616113746]   |0      |\n",
      "|POLYPLEX CORPORATION.         |[1155.776135420369,1162.235740543103,1148.8660441124143,1155.2924581999252,1943.2281513103285]  |0      |\n",
      "|WHIRLPOOL OF INDIA.           |[1839.4554377443442,1848.3984658215782,1829.8137187537086,1839.107197014572,1059.8446866485015] |0      |\n",
      "|INDIA CEMENTS.                |[160.16422981145502,161.23125222340715,159.0670283410419,160.10969998814204,43855.75157120835]  |0      |\n",
      "|J.K.CEMENT.                   |[2208.1961880483786,2219.529357363048,2196.0599122599133,2207.6445043870062,797.2869338392222]  |0      |\n",
      "|MARICO.                       |[443.8977474807335,445.54293420272603,442.0664967397748,443.7969353882617,12552.09033787789]    |0      |\n",
      "|ZYDUS WELLNESS.               |[1642.4352564861915,1649.8189551001049,1634.218036962442,1641.654300438331,439.2196422224855]   |0      |\n",
      "|JOHNSON CONTROLS-HITACHI AIR C|[1850.4388342030327,1861.1740986717225,1838.9916686432691,1849.7168168880405,278.4396347248577] |0      |\n",
      "|ORACLE FINANCIAL SERVICES SOFT|[3371.420246562352,3385.4041666666435,3356.401303935546,3370.6496740161283,639.8089141773353]   |0      |\n",
      "|TIMKEN INDIA.                 |[1741.8305650989203,1751.6167811870553,1731.9750858903024,1741.5409548631646,1800.834853690321] |0      |\n",
      "|MAHINDRA _ MAHINDRA.          |[871.3858980438632,875.1084765856554,867.4209602845217,871.2291523414318,24083.030823947836]    |0      |\n",
      "|HINDUSTAN ZINC.               |[272.82504149869584,274.05894593312706,271.4822029879081,272.71975337917945,11966.806853213186] |0      |\n",
      "|HEG.                          |[1390.9928147972428,1400.451831871005,1381.2314322978327,1390.0970950912917,4678.8674413089875] |0      |\n",
      "|WELSPUN CORP                  |[171.40672313706855,172.66767563084898,170.18625162895384,171.38653595545506,21226.022509181377]|0      |\n",
      "|MAHINDRA _ MAHINDRA FINANCIAL |[199.57270895079955,200.75622999407085,198.31426200355682,199.51327208061622,65520.388263189096]|0      |\n",
      "|MAHINDRA HOLIDAYS _ RESORTS IN|[200.06795874822186,201.3241287339969,198.79545400663918,200.0281057373165,3780.713845424372]   |0      |\n",
      "|SUPREME INDUSTRIES.           |[1921.5830944200916,1931.5703648856563,1911.238644710357,1921.3209335386784,1198.6053785096553] |0      |\n",
      "|RAYMOND.                      |[792.3570878274277,797.5150349650445,787.3390600924437,792.1822567263263,7509.322626526016]     |0      |\n",
      "|V-MART RETAIL.                |[2539.836457345978,2553.926800947863,2524.4128850711077,2538.8016113744147,641.9995260663507]   |0      |\n",
      "|VOLTAMP TRANSFORMERS.         |[1915.4123400473934,1926.9296919431113,1904.0365462085351,1915.3719372037901,386.96078199052135]|0      |\n",
      "|TVS HOLDINGS                  |[1906.4061588618813,1916.186117368108,1896.0795198577282,1905.9518553645496,245.5820983995258]  |0      |\n",
      "|SUN PHARMA ADVANCED RESEARCH C|[201.7618319706122,203.15494726863295,200.33608839910136,201.66923806138198,14243.317691669628] |0      |\n",
      "|INDIAN HOTELS CO.LTD.         |[197.24742115247756,198.26437633388633,196.1665579796065,197.1955418543985,34999.87740099597]   |0      |\n",
      "|MAX FINANCIAL SERVICES        |[693.9734174964462,697.9466453295457,689.8679409672791,693.860111427219,9652.987434803224]      |0      |\n",
      "|ZF COMMERCIAL VEHICLE CONTROL |[7883.885944536601,7914.977749466752,7852.43401872474,7883.2834380184695,87.02287271865372]     |0      |\n",
      "|GRANULES INDIA.               |[261.1847106948075,262.7023713540431,259.6217097462651,261.123642399811,18519.00391273417]      |0      |\n",
      "|SUN PHARMACEUTICAL INDUSTRIES |[702.4540753465244,705.3414228172118,699.4924771946386,702.4007700509449,39057.164672432176]    |0      |\n",
      "|SANOFI INDIA                  |[7002.489477116418,7025.546893526217,6977.974116670579,7001.008068532136,272.05181408584303]    |0      |\n",
      "|PFIZER.                       |[4268.911277705355,4285.064175654845,4251.371180514418,4267.397688751935,514.5884793172929]     |0      |\n",
      "|V.S.T.TILLERS TRACTORS.       |[2030.3432768629245,2041.4869209809085,2018.4940646842927,2029.8537317853315,254.75062196422226]|0      |\n",
      "|HINDUSTAN PETROLEUM CORPORATIO|[251.59460516955136,252.93984467630818,250.20272705715027,251.5365307090342,40358.24306378942]  |0      |\n",
      "|PROCTER _ GAMBLE HEALTH LIMITE|[4768.324961479222,4788.753537987434,4746.31542609935,4767.203295010091,239.03022401327485]     |0      |\n",
      "|ICICI PRUDENTIAL NIFTY ETF    |[158.3475800331991,158.78796774958508,157.99108133744417,158.39125207493476,2188.7459094142755] |0      |\n",
      "|HDFC LIFE INSURANCE COMPANY LI|[577.7920085368756,580.1815982926283,575.2379357363013,577.7115010671106,75569.57291913683]     |0      |\n",
      "|LIC HOUSING FINANCE.          |[388.386046235923,390.4381031416723,386.23074096028415,388.28225251926585,30701.51203319502]    |0      |\n",
      "|HERITAGE FOODS                |[185.61705596395575,186.84153426606693,184.32295470713717,185.54462295470782,3326.405382973678] |0      |\n",
      "|INDUS TOWERS                  |[223.45484349063227,224.82823689826802,221.99327721128878,223.36971188048355,63617.557979606354]|0      |\n",
      "|TORRENT POWER.                |[423.6850077005079,425.81678118706515,421.52024049283096,423.61155076412683,8483.968961023575]  |0      |\n",
      "|VARUN BEVERAGES               |[341.4602962085311,343.46034952606436,339.470005924169,341.4423755924174,22317.208412322274]    |0      |\n",
      "|OIL INDIA.                    |[178.70811996206695,179.61112494072938,177.75708866761553,178.64610597439537,16758.162399241348]|0      |\n",
      "|MAHANAGAR GAS                 |[960.3630512091044,964.7625592698042,955.5417140824968,960.0432136083451,5379.679587482219]     |0      |\n",
      "|RAIN INDUSTRIES               |[147.08433684959144,148.096213108924,146.03123740666186,147.02461775512654,27152.58942752163]   |0      |\n",
      "|VINATI ORGANICS.              |[1516.889734628592,1524.4914879753496,1508.660395687711,1516.3865655727932,889.5658097381827]   |0      |\n",
      "|VST INDUSTRIES.               |[3412.5899916992817,3425.1747480137346,3399.0191213091707,3411.9553836120003,259.23455472548324]|0      |\n",
      "|PAGE INDUSTRIES.              |[31595.975080004675,31732.217577337702,31451.851665283935,31589.243996681245,245.8514874955553] |0      |\n",
      "|INDRAPRASTHA GAS.             |[427.0957967749583,429.07268792981006,424.94387597818303,426.9623784681056,15308.61927910837]   |0      |\n",
      "|HIL.                          |[2661.5644881983203,2676.4613035227053,2645.5370715217737,2660.7316866326687,238.12714980429368]|0      |\n",
      "|SUN TV NETWORK.               |[487.89222840895695,490.5405994550388,485.06243928444394,487.6982407297734,13535.843975832247]  |0      |\n",
      "|THERMAX.                      |[1525.042868143584,1533.4533289894505,1516.6259566402089,1524.7727342731887,1521.4363227105794] |0      |\n",
      "|GUJARAT NARMADA VALLEY FERTILI|[368.99879060943704,371.4013457434182,366.51041024424865,368.86545529997517,13476.902893051933] |0      |\n",
      "|SSPDL.                        |[17.370127317399934,17.5089122180031,17.2129357456629,17.35971632789803,407.1853175489539]      |0      |\n",
      "|GRAPHITE INDIA.               |[397.1637851298453,399.8703901339952,394.3479900391325,396.9295505751206,18081.75121546306]     |0      |\n",
      "+------------------------------+------------------------------------------------------------------------------------------------+-------+\n",
      "only showing top 100 rows\n",
      "\n"
     ]
    },
    {
     "name": "stderr",
     "output_type": "stream",
     "text": [
      "                                                                                \r"
     ]
    }
   ],
   "source": [
    "feature_columns = ['avg_open', 'avg_high', 'avg_low', 'avg_close', 'avg_volume']\n",
    "assembler = VectorAssembler(inputCols=feature_columns, outputCol='features')\n",
    "assembled_data = assembler.transform(aggregated_stock_df)\n",
    "k = 5\n",
    "kmeans = KMeans(k=k, seed=1, featuresCol='features', predictionCol='cluster')\n",
    "model = kmeans.fit(assembled_data)\n",
    "predictions = model.transform(assembled_data)\n",
    "predictions.select('symbol', 'features', 'cluster').orderBy('cluster').show(100,truncate=False)"
   ]
  },
  {
   "cell_type": "code",
   "execution_count": 13,
   "metadata": {},
   "outputs": [
    {
     "name": "stderr",
     "output_type": "stream",
     "text": [
      "                                                                                \r"
     ]
    },
    {
     "data": {
      "image/png": "[encoded data removed]",
      "text/plain": [
       "<Figure size 1000x600 with 1 Axes>"
      ]
     },
     "metadata": {},
     "output_type": "display_data"
    }
   ],
   "source": [
    "import matplotlib.pyplot as plt\n",
    "import pandas as pd\n",
    "\n",
    "# Convert Spark DataFrame to Pandas for easy plotting\n",
    "pd_predictions = predictions.select('symbol', 'avg_volume', 'avg_high', 'cluster').toPandas()\n",
    "\n",
    "# Scatter plot with color-coded clusters\n",
    "plt.figure(figsize=(10, 6))\n",
    "for cluster_num in range(k):\n",
    "    cluster_data = pd_predictions[pd_predictions['cluster'] == cluster_num]\n",
    "    plt.scatter(cluster_data['avg_volume'], cluster_data['avg_high'], label=f'Cluster {cluster_num}')\n",
    "\n",
    "plt.title('KMeans Clustering of Stock Data')\n",
    "plt.xlabel('Average Volume')\n",
    "plt.ylabel('Average High Price')\n",
    "plt.legend()\n",
    "plt.show()"
   ]
  },
  {
   "cell_type": "code",
   "execution_count": 14,
   "metadata": {},
   "outputs": [
    {
     "name": "stdout",
     "output_type": "stream",
     "text": [
      "root\n",
      " |-- symbol: string (nullable = true)\n",
      " |-- avg_open: double (nullable = true)\n",
      " |-- avg_high: double (nullable = true)\n",
      " |-- avg_low: double (nullable = true)\n",
      " |-- avg_close: double (nullable = true)\n",
      " |-- avg_volume: double (nullable = true)\n",
      " |-- features: vector (nullable = true)\n",
      " |-- cluster: integer (nullable = false)\n",
      " |-- metric: double (nullable = true)\n",
      "\n"
     ]
    },
    {
     "name": "stderr",
     "output_type": "stream",
     "text": [
      "[Stage 82:======================================================> (89 + 1) / 91]\r"
     ]
    },
    {
     "name": "stdout",
     "output_type": "stream",
     "text": [
      "+------------------------------+-------+------------------+\n",
      "|symbol                        |cluster|metric            |\n",
      "+------------------------------+-------+------------------+\n",
      "|MRF.                          |0      |519.0132171641453 |\n",
      "|HONEYWELL AUTOMATION INDIA    |0      |286.7433060589683 |\n",
      "|VODAFONE IDEA                 |1      |0.1778586672989313|\n",
      "|YES BANK.                     |2      |0.7005248193342339|\n",
      "|JAIPRAKASH POWER VENTURES LIMI|2      |0.0778125741400233|\n",
      "|JIO FINANCIAL SERVICES        |3      |2.5436363636362955|\n",
      "|ZOMATO                        |3      |1.2262200000007795|\n",
      "|ICICI BANK.                   |4      |4.945269148690386 |\n",
      "|INDIABULLS HOUSING FINANCE    |4      |4.694245227082405 |\n",
      "+------------------------------+-------+------------------+\n",
      "\n"
     ]
    },
    {
     "name": "stderr",
     "output_type": "stream",
     "text": [
      "                                                                                \r"
     ]
    }
   ],
   "source": [
    "from pyspark.sql import Window\n",
    "from pyspark.sql.functions import row_number, desc\n",
    "\n",
    "prediction_df = predictions.withColumn(\"metric\", col('avg_high') - col('avg_low'))\n",
    "\n",
    "prediction_df.printSchema()\n",
    "\n",
    "\n",
    "# Assuming 'prediction_df' is your DataFrame\n",
    "# Create a Spark session if not already created\n",
    "# spark = SparkSession.builder.appName(\"TopSymbolsByCluster\").getOrCreate()\n",
    "\n",
    "# Define a window specification to partition by cluster and order by metric\n",
    "window_spec = Window.partitionBy('cluster').orderBy(desc('metric'))\n",
    "\n",
    "# Add a row number to each row within the window specification\n",
    "ranked_predictions = prediction_df.withColumn('row_num', row_number().over(window_spec))\n",
    "\n",
    "# Select the top 5 symbols from each cluster\n",
    "top_symbols_per_cluster = ranked_predictions.filter('row_num <= 2').select('symbol', 'cluster', 'metric')\n",
    "\n",
    "# Show the result\n",
    "top_symbols_per_cluster.show(truncate=False)\n"
   ]
  }
 ],
 "metadata": {
  "colab": {
   "authorship_tag": "ABX9TyPIbL08vU6gkwVzfCXYv9co",
   "provenance": []
  },
  "kernelspec": {
   "display_name": "Python 3 (ipykernel)",
   "language": "python",
   "name": "python3"
  },
  "language_info": {
   "codemirror_mode": {
    "name": "ipython",
    "version": 3
   },
   "file_extension": ".py",
   "mimetype": "text/x-python",
   "name": "python",
   "nbconvert_exporter": "python",
   "pygments_lexer": "ipython3",
   "version": "3.9.6"
  }
 },
 "nbformat": 4,
 "nbformat_minor": 4
}
